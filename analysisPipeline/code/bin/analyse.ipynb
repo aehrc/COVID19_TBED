{
 "cells": [
  {
   "cell_type": "markdown",
   "metadata": {},
   "source": [
    "# Coronavirus Kmer Analyses"
   ]
  },
  {
   "cell_type": "markdown",
   "metadata": {},
   "source": [
    "This notebook contains analyses of Kmers arising from Coronavirus sequences."
   ]
  },
  {
   "cell_type": "markdown",
   "metadata": {},
   "source": [
    "## Notebook Initialisation"
   ]
  },
  {
   "cell_type": "code",
   "execution_count": null,
   "metadata": {
    "code_folding": [
     0
    ]
   },
   "outputs": [],
   "source": [
    "## Date of analysis\n",
    "import datetime\n",
    "\n",
    "currDate = datetime.datetime.now().date()\n",
    "currTime = datetime.datetime.now().time()\n",
    "\n",
    "print('This analysis was run on:')\n",
    "print(currDate.strftime('%Y-%m-%d' + ' ')\n",
    "      + currTime.strftime('%H:%M:%S'))"
   ]
  },
  {
   "cell_type": "code",
   "execution_count": null,
   "metadata": {
    "code_folding": [
     0
    ]
   },
   "outputs": [],
   "source": [
    "## Library imports\n",
    "## Standard library imports\n",
    "import os\n",
    "import sys\n",
    "import warnings\n",
    "warnings.simplefilter('ignore')\n",
    "\n",
    "from itertools import product\n",
    "from pathlib import Path\n",
    "path = Path('../..').resolve()\n",
    "if (str(path) not in sys.path):\n",
    "    ## Add the parent path to the sys path\n",
    "    ## This let's us import modules from analyse and dev\n",
    "    sys.path.append(str(path))\n",
    "\n",
    "## External imports\n",
    "import numpy as np\n",
    "import pandas as pd\n",
    "import holoviews as hv\n",
    "\n",
    "## Internal imports\n",
    "from analyses.src import cov\n",
    "from analyses.src import kmer\n",
    "from analyses.src import ml\n",
    "from analyses.src import plot\n",
    "from dev.src import io"
   ]
  },
  {
   "cell_type": "code",
   "execution_count": null,
   "metadata": {
    "code_folding": []
   },
   "outputs": [],
   "source": [
    "## IO related\n",
    "\n",
    "## **********\n",
    "## *** Use the following if we are running locally\n",
    "## **********\n",
    "# OUTPUT_DIR    = Path('kmerSigs')\n",
    "# COVID_WG_DIR  = Path(OUTPUT_DIR, 'freqs')\n",
    "# DUP_INFO_FILE = Path('files/200317.trimmed.noDup.fasta.identicalIDs.txt')\n",
    "\n",
    "## **********\n",
    "## *** Use the following if we are running on HPC\n",
    "## **********\n",
    "# FREQUENCY_OUTPUT_DIR = Path(os.environ['FREQUENCY_OUTPUT_DIR'])\n",
    "# OUTPUT_DIR           = Path('.')\n",
    "# WG_DIR               = Path(FREQUENCY_OUTPUT_DIR, 'default/fasta/cov_genomes')\n",
    "# COVID_WG_DIR         = Path(WG_DIR, 'COVID-19_10mer')\n",
    "\n",
    "## **********\n",
    "## *** Use the following if we are running on through the pipelin\n",
    "## **********\n",
    "OUTPUT_DIR    = Path(sys.argv[3])\n",
    "COVID_WG_DIR  = Path(OUTPUT_DIR, sys.argv[1])\n",
    "DUP_INFO_FILE = Path(sys.argv[2])\n",
    "\n",
    "DIRS          = [COVID_WG_DIR]"
   ]
  },
  {
   "cell_type": "code",
   "execution_count": null,
   "metadata": {
    "code_folding": [
     0
    ]
   },
   "outputs": [],
   "source": [
    "## Plotting related\n",
    "PLOT_LIBRARY = 'matplotlib'\n",
    "ZOOMED_1X    = 0.01\n",
    "ZOOMED_2X    = 0.2\n",
    "ZOOMED_3X    = 0.4\n",
    "\n",
    "def getPlots(kmerPcas, oFilename):\n",
    "    scatters = [cov.plot.scatter(PLOT_LIBRARY, kmerPca)\n",
    "                for kmerPca in kmerPcas]\n",
    "\n",
    "    ## Create the map of plots\n",
    "    plots    = {a:b for a, b in zip(ARGS, scatters)}\n",
    "    plots    = hv.HoloMap(plots, kdims='kmer')\n",
    "    plots    = plots.collate()\n",
    "\n",
    "    if (PLOT_LIBRARY != 'bokeh'):\n",
    "        oFile    = Path(OUTPUT_DIR, oFileName)\n",
    "        hv.save(plots, oFile)\n",
    "\n",
    "    return plots"
   ]
  },
  {
   "cell_type": "markdown",
   "metadata": {},
   "source": [
    "# Genome Kmer frequency analyses"
   ]
  },
  {
   "cell_type": "markdown",
   "metadata": {},
   "source": [
    "## Whole genome"
   ]
  },
  {
   "cell_type": "code",
   "execution_count": null,
   "metadata": {
    "code_folding": [
     0
    ]
   },
   "outputs": [],
   "source": [
    "## Table formatting-related\n",
    "def getKmerPca(kmerId, kmerCount, oFilter=0):\n",
    "    kmerPca = ml.feature.reduce(kmerCount)\n",
    "    if (oFilter != 0):\n",
    "        kmerPca = ml.outlier.detect(kmerPca, contamination=oFilter)\n",
    "\n",
    "    kmerPca = pd.concat([kmerId, kmerPca], axis=1)\n",
    "    return kmerPca\n",
    "\n",
    "def getPcaDistance(kmerPca):\n",
    "    ## Scale the coordinates so that its a bit easier\n",
    "    kmerPca['PCA1'] = kmerPca['PCA1'] * 10000\n",
    "    kmerPca['PCA2'] = kmerPca['PCA2'] * 10000\n",
    "\n",
    "    idDf     = kmerPca[[kmer.ID_COL_NAME, kmer.FILE_COL_NAME]]\n",
    "    pcaDf    = kmerPca[ml.PCA_DATA_COL_NAMES]\n",
    "    kmerDist = ml.distance.euclidean(pcaDf)\n",
    "    kmerDist = ml.distance.addIdColumns(idDf, kmerDist)\n",
    "    return kmerDist"
   ]
  },
  {
   "cell_type": "code",
   "execution_count": null,
   "metadata": {
    "code_folding": [
     0
    ]
   },
   "outputs": [],
   "source": [
    "## Read Kmer frequencies\n",
    "KMERS      = [i for i in range(10, 11)]    ## Doesn't actually do anything \n",
    "ARGS       = KMERS\n",
    "\n",
    "kmerDirs   = [DIRS for k in ARGS]\n",
    "kmerDfs    = [io.kmer.read(*kmerDir) for kmerDir in kmerDirs]\n",
    "kmerDfs    = [kmer.rotateAndSplit(kmerDf) for kmerDf in kmerDfs]"
   ]
  },
  {
   "cell_type": "markdown",
   "metadata": {},
   "source": [
    "### SARS-CoV-2"
   ]
  },
  {
   "cell_type": "markdown",
   "metadata": {},
   "source": [
    "#### All"
   ]
  },
  {
   "cell_type": "code",
   "execution_count": null,
   "metadata": {
    "code_folding": [
     0
    ],
    "scrolled": false
   },
   "outputs": [],
   "source": [
    "## Pre-filtering\n",
    "filtKmerDfs    = [kmer.filterByFilename(kmerId, kmerCount)\n",
    "                  for kmerId, kmerCount in kmerDfs]\n",
    "filtKmerIds    = [kmerDf[0] for kmerDf in filtKmerDfs]\n",
    "filtKmerCounts = [kmerDf[1] for kmerDf in filtKmerDfs]\n",
    "\n",
    "## Table formatting\n",
    "dupInfo        = cov.io.parseDupInfo(DUP_INFO_FILE)\n",
    "filtKmerIds    = [kmerId.merge(dupInfo, how='left', on='id')\n",
    "                  for kmerId in filtKmerIds]\n",
    "filtKmerIds    = [cov.style.default(kmerId) for kmerId in filtKmerIds]\n",
    "\n",
    "## Run PCA\n",
    "kmerPcas0x     = [getKmerPca(kmerId, kmerCount)\n",
    "                  for kmerId, kmerCount in zip(filtKmerIds, filtKmerCounts)]\n",
    "kmerPcas1x     = [getKmerPca(kmerId, kmerCount, oFilter=ZOOMED_1X)\n",
    "                  for kmerId, kmerCount in zip(filtKmerIds, filtKmerCounts)]\n",
    "kmerPcas2x     = [getKmerPca(kmerId, kmerCount, oFilter=ZOOMED_2X)\n",
    "                  for kmerId, kmerCount in zip(filtKmerIds, filtKmerCounts)]\n",
    "kmerPcas3x     = [getKmerPca(kmerId, kmerCount, oFilter=ZOOMED_3X)\n",
    "                  for kmerId, kmerCount in zip(filtKmerIds, filtKmerCounts)]\n",
    "\n",
    "## Post-filtering\n",
    "kmerPcas1x     = [ml.filterByOutlier(kmerPca) for kmerPca in kmerPcas1x]\n",
    "kmerPcas2x     = [ml.filterByOutlier(kmerPca) for kmerPca in kmerPcas2x]\n",
    "kmerPcas3x     = [ml.filterByOutlier(kmerPca) for kmerPca in kmerPcas3x]"
   ]
  },
  {
   "cell_type": "code",
   "execution_count": null,
   "metadata": {
    "code_folding": [
     0
    ],
    "scrolled": true
   },
   "outputs": [],
   "source": [
    "## Create PCA distance matrix\n",
    "kmerDists = [getPcaDistance(kmerPca.copy()) for kmerPca in kmerPcas0x]\n",
    "\n",
    "oFile = Path(OUTPUT_DIR, 'SARS-CoV-2_distance.txt')  \n",
    "[kmerDist.to_csv(oFile, sep='\\t', index=False) for kmerDist in kmerDists]\n",
    "\n",
    "datasets  = [hv.Dataset(kmerDist, ['id_x', 'id_y'])\n",
    "             for kmerDist in kmerDists]\n",
    "heatmaps  = [d.to(hv.HeatMap, ['id_x', 'id_y'])\n",
    "             for d in datasets]\n",
    "\n",
    "plot.setLibrary(PLOT_LIBRARY)\n",
    "if (PLOT_LIBRARY == 'bokeh'):\n",
    "    ## Style plots\n",
    "\n",
    "    ## Create the map of plots\n",
    "    plots    = {a:b for a, b in zip(ARGS, heatmaps)}\n",
    "    plots    = hv.HoloMap(plots, kdims='kmer')\n",
    "    plots    = plots.collate()\n",
    "    plots\n",
    "\n",
    "else:\n",
    "    ## Matplotlib doesnt work the same way as Bokeh\n",
    "    ## Labels cant be removed (for some reason)\n",
    "    pass"
   ]
  },
  {
   "cell_type": "code",
   "execution_count": null,
   "metadata": {
    "code_folding": [
     0
    ],
    "scrolled": false
   },
   "outputs": [],
   "source": [
    "## Create plot\n",
    "plot.setLibrary(PLOT_LIBRARY)\n",
    "oFileName = 'SARS-CoV-2.0x_all.svg'\n",
    "plots     = getPlots(kmerPcas0x, oFileName)\n",
    "plots"
   ]
  },
  {
   "cell_type": "code",
   "execution_count": null,
   "metadata": {
    "code_folding": [
     0
    ],
    "scrolled": true
   },
   "outputs": [],
   "source": [
    "## Create plot\n",
    "plot.setLibrary(PLOT_LIBRARY)\n",
    "oFileName = 'SARS-CoV-2.1x_all.svg'\n",
    "plots     = getPlots(kmerPcas1x, oFileName)\n",
    "plots"
   ]
  },
  {
   "cell_type": "code",
   "execution_count": null,
   "metadata": {
    "code_folding": [
     0
    ],
    "scrolled": true
   },
   "outputs": [],
   "source": [
    "## Create plot\n",
    "plot.setLibrary(PLOT_LIBRARY)\n",
    "oFileName = 'SARS-CoV-2.2x_all.svg'\n",
    "plots     = getPlots(kmerPcas2x, oFileName)\n",
    "plots"
   ]
  },
  {
   "cell_type": "code",
   "execution_count": null,
   "metadata": {
    "code_folding": [
     0
    ]
   },
   "outputs": [],
   "source": [
    "## Create plot\n",
    "plot.setLibrary(PLOT_LIBRARY)\n",
    "oFileName = 'SARS-CoV-2.3x_all.svg'\n",
    "plots     = getPlots(kmerPcas3x, oFileName)\n",
    "plots"
   ]
  },
  {
   "cell_type": "markdown",
   "metadata": {},
   "source": [
    "#### Wuhan-Hu-1 and AUS (Isolates)"
   ]
  },
  {
   "cell_type": "code",
   "execution_count": null,
   "metadata": {
    "code_folding": [
     0
    ],
    "scrolled": false
   },
   "outputs": [],
   "source": [
    "## Pre-filtering\n",
    "filtKmerDfs    = [kmer.filterByFilename(kmerId, kmerCount)\n",
    "                  for kmerId, kmerCount in kmerDfs]\n",
    "filtKmerIds    = [kmerDf[0] for kmerDf in filtKmerDfs]\n",
    "filtKmerCounts = [kmerDf[1] for kmerDf in filtKmerDfs]\n",
    "\n",
    "## Table formatting\n",
    "dupInfo     = cov.io.parseDupInfo(DUP_INFO_FILE)\n",
    "filtKmerIds = [kmerId.merge(dupInfo, how='left', on='id')\n",
    "               for kmerId in filtKmerIds]\n",
    "filtKmerIds = [cov.style.refAusIsolates(kmerId) for kmerId in filtKmerIds]\n",
    "\n",
    "## Run PCA\n",
    "kmerPcas0x     = [getKmerPca(kmerId, kmerCount)\n",
    "                  for kmerId, kmerCount in zip(filtKmerIds, filtKmerCounts)]\n",
    "kmerPcas1x     = [getKmerPca(kmerId, kmerCount, oFilter=ZOOMED_1X)\n",
    "                  for kmerId, kmerCount in zip(filtKmerIds, filtKmerCounts)]\n",
    "kmerPcas2x     = [getKmerPca(kmerId, kmerCount, oFilter=ZOOMED_2X)\n",
    "                  for kmerId, kmerCount in zip(filtKmerIds, filtKmerCounts)]\n",
    "kmerPcas3x     = [getKmerPca(kmerId, kmerCount, oFilter=ZOOMED_3X)\n",
    "                  for kmerId, kmerCount in zip(filtKmerIds, filtKmerCounts)]\n",
    "\n",
    "## Post-filtering\n",
    "kmerPcas1x     = [ml.filterByOutlier(kmerPca) for kmerPca in kmerPcas1x]\n",
    "kmerPcas2x     = [ml.filterByOutlier(kmerPca) for kmerPca in kmerPcas2x]\n",
    "kmerPcas3x     = [ml.filterByOutlier(kmerPca) for kmerPca in kmerPcas3x]"
   ]
  },
  {
   "cell_type": "code",
   "execution_count": null,
   "metadata": {
    "code_folding": [
     0
    ],
    "scrolled": true
   },
   "outputs": [],
   "source": [
    "## Create plot\n",
    "plot.setLibrary(PLOT_LIBRARY)\n",
    "oFileName = 'SARS-CoV-2.0x_Wuhan.Aus.Animal_isolates.svg'\n",
    "plots     = getPlots(kmerPcas0x, oFileName)\n",
    "plots"
   ]
  },
  {
   "cell_type": "code",
   "execution_count": null,
   "metadata": {
    "code_folding": [
     0
    ],
    "scrolled": true
   },
   "outputs": [],
   "source": [
    "## Create plot\n",
    "plot.setLibrary(PLOT_LIBRARY)\n",
    "oFileName = 'SARS-CoV-2.1x_Wuhan.Aus.Animal_isolates.svg'\n",
    "plots     = getPlots(kmerPcas1x, oFileName)\n",
    "plots"
   ]
  },
  {
   "cell_type": "code",
   "execution_count": null,
   "metadata": {
    "code_folding": [
     0
    ],
    "scrolled": true
   },
   "outputs": [],
   "source": [
    "## Create plot\n",
    "plot.setLibrary(PLOT_LIBRARY)\n",
    "oFileName = 'SARS-CoV-2.2x_Wuhan.Aus.Animal_isolates.svg'\n",
    "plots     = getPlots(kmerPcas2x, oFileName)\n",
    "plots"
   ]
  },
  {
   "cell_type": "code",
   "execution_count": null,
   "metadata": {
    "code_folding": [
     0
    ],
    "scrolled": true
   },
   "outputs": [],
   "source": [
    "## Create plot\n",
    "plot.setLibrary(PLOT_LIBRARY)\n",
    "oFileName = 'SARS-CoV-2.3x_Wuhan.Aus.Animal_isolates.svg'\n",
    "plots     = getPlots(kmerPcas3x, oFileName)\n",
    "plots"
   ]
  },
  {
   "cell_type": "markdown",
   "metadata": {},
   "source": [
    "#### Wuhan-Hu-1 and AUS (Isolate groups)"
   ]
  },
  {
   "cell_type": "code",
   "execution_count": null,
   "metadata": {
    "code_folding": [
     0
    ],
    "scrolled": false
   },
   "outputs": [],
   "source": [
    "## Pre-filtering\n",
    "filtKmerDfs    = [kmer.filterByFilename(kmerId, kmerCount)\n",
    "                  for kmerId, kmerCount in kmerDfs]\n",
    "filtKmerIds    = [kmerDf[0] for kmerDf in filtKmerDfs]\n",
    "filtKmerCounts = [kmerDf[1] for kmerDf in filtKmerDfs]\n",
    "\n",
    "## Table formatting\n",
    "dupInfo     = cov.io.parseDupInfo(DUP_INFO_FILE)\n",
    "filtKmerIds = [kmerId.merge(dupInfo, how='left', on='id')\n",
    "               for kmerId in filtKmerIds]\n",
    "filtKmerIds = [cov.style.refAusIsolateGroups(kmerId)\n",
    "               for kmerId in filtKmerIds]\n",
    "\n",
    "## Run PCA\n",
    "kmerPcas0x     = [getKmerPca(kmerId, kmerCount)\n",
    "                  for kmerId, kmerCount in zip(filtKmerIds, filtKmerCounts)]\n",
    "kmerPcas1x     = [getKmerPca(kmerId, kmerCount, oFilter=ZOOMED_1X)\n",
    "                  for kmerId, kmerCount in zip(filtKmerIds, filtKmerCounts)]\n",
    "kmerPcas2x     = [getKmerPca(kmerId, kmerCount, oFilter=ZOOMED_2X)\n",
    "                  for kmerId, kmerCount in zip(filtKmerIds, filtKmerCounts)]\n",
    "kmerPcas3x     = [getKmerPca(kmerId, kmerCount, oFilter=ZOOMED_3X)\n",
    "                  for kmerId, kmerCount in zip(filtKmerIds, filtKmerCounts)]\n",
    "\n",
    "## Post-filtering\n",
    "kmerPcas1x     = [ml.filterByOutlier(kmerPca) for kmerPca in kmerPcas1x]\n",
    "kmerPcas2x     = [ml.filterByOutlier(kmerPca) for kmerPca in kmerPcas2x]\n",
    "kmerPcas3x     = [ml.filterByOutlier(kmerPca) for kmerPca in kmerPcas3x]"
   ]
  },
  {
   "cell_type": "code",
   "execution_count": null,
   "metadata": {
    "code_folding": [
     0
    ]
   },
   "outputs": [],
   "source": [
    "## Create plot\n",
    "plot.setLibrary(PLOT_LIBRARY)\n",
    "oFileName = 'SARS-CoV-2.0x_Wuhan.Aus.Animal_isolate.groups.svg'\n",
    "plots     = getPlots(kmerPcas0x, oFileName)\n",
    "plots"
   ]
  },
  {
   "cell_type": "code",
   "execution_count": null,
   "metadata": {
    "code_folding": [
     0
    ]
   },
   "outputs": [],
   "source": [
    "## Create plot\n",
    "plot.setLibrary(PLOT_LIBRARY)\n",
    "oFileName = 'SARS-CoV-2.1x_Wuhan.Aus.Animal_isolate.groups.svg'\n",
    "plots     = getPlots(kmerPcas1x, oFileName)\n",
    "plots"
   ]
  },
  {
   "cell_type": "code",
   "execution_count": null,
   "metadata": {
    "code_folding": [
     0
    ],
    "scrolled": true
   },
   "outputs": [],
   "source": [
    "## Create plot\n",
    "plot.setLibrary(PLOT_LIBRARY)\n",
    "oFileName = 'SARS-CoV-2.2x_Wuhan.Aus.Animal_isolate.groups.svg'\n",
    "plots     = getPlots(kmerPcas2x, oFileName)\n",
    "plots"
   ]
  },
  {
   "cell_type": "code",
   "execution_count": null,
   "metadata": {
    "code_folding": [
     0
    ],
    "scrolled": false
   },
   "outputs": [],
   "source": [
    "## Create plot\n",
    "plot.setLibrary(PLOT_LIBRARY)\n",
    "oFileName = 'SARS-CoV-2.3x_Wuhan.Aus.Animal_isolate.groups.svg'\n",
    "plots     = getPlots(kmerPcas3x, oFileName)\n",
    "plots"
   ]
  }
 ],
 "metadata": {
  "kernelspec": {
   "display_name": "Python 3",
   "language": "python",
   "name": "python3"
  },
  "language_info": {
   "codemirror_mode": {
    "name": "ipython",
    "version": 3
   },
   "file_extension": ".py",
   "mimetype": "text/x-python",
   "name": "python",
   "nbconvert_exporter": "python",
   "pygments_lexer": "ipython3",
   "version": "3.7.3"
  },
  "toc": {
   "base_numbering": 1,
   "nav_menu": {
    "height": "103px",
    "width": "220px"
   },
   "number_sections": true,
   "sideBar": true,
   "skip_h1_title": false,
   "title_cell": "Table of Contents",
   "title_sidebar": "Contents",
   "toc_cell": false,
   "toc_position": {},
   "toc_section_display": true,
   "toc_window_display": false
  }
 },
 "nbformat": 4,
 "nbformat_minor": 4
}
